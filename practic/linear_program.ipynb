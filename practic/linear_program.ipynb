{
 "cells": [
  {
   "cell_type": "markdown",
   "metadata": {},
   "source": [
    "| Тип робота | Техник | Специалист по ИИ | Инженер | Доход с робота |\n",
    "| ---------- | ------ | ---------------- | ------- | -------------- |\n",
    "| Робот А | 3 дня | 4 дня | 4 дня | 4200 $|\n",
    "| Робот В | 2 дня | 3 дня | 3 дня | 2800 $|\n",
    "\n",
    "Ниже перечислено кол-во специалистов и их доступное время в цикле из 30 дней\n",
    "\n",
    "|  | Техник | Специалист по ИИ | Инженер |\n",
    "| ---------- | ------ | ---------------- | ------- |\n",
    "| Кол-во человек | 1 | 1 | 2 |\n",
    "| Общее кол-во дней в цикле | 20 дней | 30 дней | 44 дня |\n",
    "\n",
    "Нужно найти максимальную прибль. Составим уравнения\n",
    "\n",
    "A >= 0\n",
    "\n",
    "B >= 0\n",
    "\n",
    "3A + 2B <= 20\n",
    "\n",
    "4A + 3B <= 30\n",
    "\n",
    "4A + 3B <= 44"
   ]
  },
  {
   "cell_type": "code",
   "execution_count": 8,
   "metadata": {},
   "outputs": [
    {
     "name": "stdout",
     "output_type": "stream",
     "text": [
      "Welcome to the CBC MILP Solver \n",
      "Version: 2.10.3 \n",
      "Build Date: Dec 15 2019 \n",
      "\n",
      "command line - /home/atikin/anaconda3/envs/dataAnalytics/lib/python3.10/site-packages/pulp/solverdir/cbc/linux/64/cbc /tmp/ed4f71617e7b4fbaaf2550b704243108-pulp.mps max timeMode elapsed branch printingOptions all solution /tmp/ed4f71617e7b4fbaaf2550b704243108-pulp.sol (default strategy 1)\n",
      "At line 2 NAME          MODEL\n",
      "At line 3 ROWS\n",
      "At line 8 COLUMNS\n",
      "At line 21 RHS\n",
      "At line 25 BOUNDS\n",
      "At line 28 ENDATA\n",
      "Problem MODEL has 3 rows, 2 columns and 6 elements\n",
      "Coin0008I MODEL read with 0 errors\n",
      "Option for timeMode changed from cpu to elapsed\n",
      "Continuous objective value is 28000 - 0.00 seconds\n",
      "Cgl0004I processed model has 2 rows, 2 columns (2 integer (0 of which binary)) and 4 elements\n",
      "Cutoff increment increased from 1e-05 to 1400\n",
      "Cbc0012I Integer solution of -28000 found by DiveCoefficient after 0 iterations and 0 nodes (0.00 seconds)\n",
      "Cbc0001I Search completed - best objective -28000, took 0 iterations and 0 nodes (0.00 seconds)\n",
      "Cbc0035I Maximum depth 0, 0 variables fixed on reduced cost\n",
      "Cuts at root node changed objective from -28000 to -28000\n",
      "Probing was tried 0 times and created 0 cuts of which 0 were active after adding rounds of cuts (0.000 seconds)\n",
      "Gomory was tried 0 times and created 0 cuts of which 0 were active after adding rounds of cuts (0.000 seconds)\n",
      "Knapsack was tried 0 times and created 0 cuts of which 0 were active after adding rounds of cuts (0.000 seconds)\n",
      "Clique was tried 0 times and created 0 cuts of which 0 were active after adding rounds of cuts (0.000 seconds)\n",
      "MixedIntegerRounding2 was tried 0 times and created 0 cuts of which 0 were active after adding rounds of cuts (0.000 seconds)\n",
      "FlowCover was tried 0 times and created 0 cuts of which 0 were active after adding rounds of cuts (0.000 seconds)\n",
      "TwoMirCuts was tried 0 times and created 0 cuts of which 0 were active after adding rounds of cuts (0.000 seconds)\n",
      "ZeroHalf was tried 0 times and created 0 cuts of which 0 were active after adding rounds of cuts (0.000 seconds)\n",
      "\n",
      "Result - Optimal solution found\n",
      "\n",
      "Objective value:                28000.00000000\n",
      "Enumerated nodes:               0\n",
      "Total iterations:               0\n",
      "Time (CPU seconds):             0.00\n",
      "Time (Wallclock seconds):       0.00\n",
      "\n",
      "Option for printingOptions changed from normal to all\n",
      "Total time (CPU seconds):       0.00   (Wallclock seconds):       0.00\n",
      "\n"
     ]
    },
    {
     "data": {
      "text/plain": [
       "'Optimal'"
      ]
     },
     "execution_count": 8,
     "metadata": {},
     "output_type": "execute_result"
    }
   ],
   "source": [
    "import pulp\n",
    "\n",
    "model = pulp.LpProblem(\"Profit maximising problem\", pulp.LpMaximize)\n",
    "\n",
    "A = pulp.LpVariable('A', lowBound=0, cat='Integer')\n",
    "B = pulp.LpVariable('B', lowBound=0, cat='Integer')\n",
    "\n",
    "model += 4200 * A + 2800 * B, 'Profit'\n",
    "\n",
    "model += 3 * A + 2 * B <= 20\n",
    "model += 4 * A + 3 * B <= 30\n",
    "model += 4 * A + 3 * B <= 44\n",
    "\n",
    "model.solve()\n",
    "pulp.LpStatus[model.status]"
   ]
  },
  {
   "cell_type": "code",
   "execution_count": 9,
   "metadata": {},
   "outputs": [
    {
     "name": "stdout",
     "output_type": "stream",
     "text": [
      "6.0\n",
      "1.0\n"
     ]
    }
   ],
   "source": [
    "print(A.varValue)\n",
    "print(B.varValue)"
   ]
  },
  {
   "cell_type": "code",
   "execution_count": 10,
   "metadata": {},
   "outputs": [
    {
     "name": "stdout",
     "output_type": "stream",
     "text": [
      "28000.0\n"
     ]
    }
   ],
   "source": [
    "print(pulp.value(model.objective))"
   ]
  }
 ],
 "metadata": {
  "kernelspec": {
   "display_name": "dataAnalytics",
   "language": "python",
   "name": "python3"
  },
  "language_info": {
   "codemirror_mode": {
    "name": "ipython",
    "version": 3
   },
   "file_extension": ".py",
   "mimetype": "text/x-python",
   "name": "python",
   "nbconvert_exporter": "python",
   "pygments_lexer": "ipython3",
   "version": "3.10.9"
  },
  "orig_nbformat": 4
 },
 "nbformat": 4,
 "nbformat_minor": 2
}
