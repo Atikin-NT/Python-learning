{
 "cells": [
  {
   "cell_type": "code",
   "execution_count": 1,
   "metadata": {},
   "outputs": [],
   "source": [
    "import pandas as pd\n",
    "import numpy as np\n",
    "import pyfpgrowth as fp"
   ]
  },
  {
   "cell_type": "code",
   "execution_count": 2,
   "metadata": {},
   "outputs": [],
   "source": [
    "dict1 = {\n",
    "    'id': [0,1,2,3],\n",
    "    'items': [['wickets', 'pads'],\n",
    "    ['bat', 'wickets', 'pads', 'helmet'],\n",
    "    ['helmet', 'pad'],\n",
    "    ['bat', 'pads', 'helmet']]\n",
    "}\n",
    "\n",
    "transaction_set = pd.DataFrame(dict1)"
   ]
  },
  {
   "cell_type": "code",
   "execution_count": 3,
   "metadata": {},
   "outputs": [],
   "source": [
    "patterns = fp.find_frequent_patterns(transaction_set['items'], 1)"
   ]
  },
  {
   "cell_type": "code",
   "execution_count": 4,
   "metadata": {},
   "outputs": [
    {
     "data": {
      "text/plain": [
       "{('pad',): 1,\n",
       " ('helmet', 'pad'): 1,\n",
       " ('wickets',): 2,\n",
       " ('pads', 'wickets'): 2,\n",
       " ('bat', 'wickets'): 1,\n",
       " ('helmet', 'wickets'): 1,\n",
       " ('bat', 'pads', 'wickets'): 1,\n",
       " ('helmet', 'pads', 'wickets'): 1,\n",
       " ('bat', 'helmet', 'wickets'): 1,\n",
       " ('bat', 'helmet', 'pads', 'wickets'): 1,\n",
       " ('bat',): 2,\n",
       " ('bat', 'helmet'): 2,\n",
       " ('bat', 'pads'): 2,\n",
       " ('bat', 'helmet', 'pads'): 2,\n",
       " ('pads',): 3,\n",
       " ('helmet',): 3,\n",
       " ('helmet', 'pads'): 2}"
      ]
     },
     "execution_count": 4,
     "metadata": {},
     "output_type": "execute_result"
    }
   ],
   "source": [
    "patterns"
   ]
  },
  {
   "cell_type": "code",
   "execution_count": 5,
   "metadata": {},
   "outputs": [
    {
     "data": {
      "text/plain": [
       "{('helmet',): (('pads',), 0.6666666666666666),\n",
       " ('pad',): (('helmet',), 1.0),\n",
       " ('pads',): (('helmet',), 0.6666666666666666),\n",
       " ('wickets',): (('bat', 'helmet', 'pads'), 0.5),\n",
       " ('bat',): (('helmet', 'pads'), 1.0),\n",
       " ('bat', 'pads'): (('helmet',), 1.0),\n",
       " ('bat', 'wickets'): (('helmet', 'pads'), 1.0),\n",
       " ('pads', 'wickets'): (('bat', 'helmet'), 0.5),\n",
       " ('helmet', 'pads'): (('bat',), 1.0),\n",
       " ('helmet', 'wickets'): (('bat', 'pads'), 1.0),\n",
       " ('bat', 'helmet'): (('pads',), 1.0),\n",
       " ('bat', 'helmet', 'pads'): (('wickets',), 0.5),\n",
       " ('bat', 'helmet', 'wickets'): (('pads',), 1.0),\n",
       " ('bat', 'pads', 'wickets'): (('helmet',), 1.0),\n",
       " ('helmet', 'pads', 'wickets'): (('bat',), 1.0)}"
      ]
     },
     "execution_count": 5,
     "metadata": {},
     "output_type": "execute_result"
    }
   ],
   "source": [
    "rules = fp.generate_association_rules(patterns, 0.3)\n",
    "rules"
   ]
  }
 ],
 "metadata": {
  "kernelspec": {
   "display_name": "dataAnalytics",
   "language": "python",
   "name": "python3"
  },
  "language_info": {
   "codemirror_mode": {
    "name": "ipython",
    "version": 3
   },
   "file_extension": ".py",
   "mimetype": "text/x-python",
   "name": "python",
   "nbconvert_exporter": "python",
   "pygments_lexer": "ipython3",
   "version": "3.10.9"
  },
  "orig_nbformat": 4
 },
 "nbformat": 4,
 "nbformat_minor": 2
}
