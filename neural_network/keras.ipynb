{
 "cells": [
  {
   "cell_type": "code",
   "execution_count": 4,
   "metadata": {},
   "outputs": [],
   "source": [
    "import tensorflow as tf\n",
    "from tensorflow.keras.models import Sequential\n",
    "from tensorflow.keras.layers import Dense, Activation, Dropout, Flatten\n",
    "from tensorflow.keras.datasets import mnist"
   ]
  },
  {
   "cell_type": "code",
   "execution_count": 5,
   "metadata": {},
   "outputs": [],
   "source": [
    "(x_train, y_train), (x_test, y_test) = mnist.load_data()"
   ]
  },
  {
   "cell_type": "code",
   "execution_count": 6,
   "metadata": {},
   "outputs": [],
   "source": [
    "model = Sequential([  # последовательная модель\n",
    "    Flatten(),  # выравнивает входной слой: формирует нормальную размерность\n",
    "    Dense(128, activation='relu'),  # слой из 128 нейронов и с определенной фун активации\n",
    "    Dropout(0.15),  # случайно отключает 15% нейронов (ставит их выходное значение равное нулю)\n",
    "    Dense(128, activation='relu'),\n",
    "    Dropout(0.15),\n",
    "    Dense(10, activation='softmax'),\n",
    "])"
   ]
  },
  {
   "cell_type": "markdown",
   "metadata": {},
   "source": [
    "# Настройка процесса обучения \n",
    "\n",
    "На этом этапе мы задаем 3 параметра:\n",
    "+ оптимизатор\n",
    "+ функция потерь\n",
    "+ метрики, котрые будут определять качество модели"
   ]
  },
  {
   "cell_type": "code",
   "execution_count": 8,
   "metadata": {},
   "outputs": [],
   "source": [
    "optimiser = tf.keras.optimizers.RMSprop()\n",
    "model.compile(optimizer=optimiser, loss='mse', metrics=['accuracy'])"
   ]
  },
  {
   "cell_type": "markdown",
   "metadata": {},
   "source": [
    "# Обучение модели"
   ]
  },
  {
   "cell_type": "code",
   "execution_count": 9,
   "metadata": {},
   "outputs": [
    {
     "name": "stdout",
     "output_type": "stream",
     "text": [
      "Epoch 1/10\n",
      "469/469 [==============================] - 3s 5ms/step - loss: 27.3945 - accuracy: 0.1021\n",
      "Epoch 2/10\n",
      "469/469 [==============================] - 2s 5ms/step - loss: 27.3945 - accuracy: 0.1022\n",
      "Epoch 3/10\n",
      "469/469 [==============================] - 2s 5ms/step - loss: 27.3945 - accuracy: 0.1022\n",
      "Epoch 4/10\n",
      "469/469 [==============================] - 2s 5ms/step - loss: 27.3945 - accuracy: 0.1022\n",
      "Epoch 5/10\n",
      "469/469 [==============================] - 2s 5ms/step - loss: 27.3945 - accuracy: 0.1022\n",
      "Epoch 6/10\n",
      "469/469 [==============================] - 2s 5ms/step - loss: 27.3945 - accuracy: 0.1022\n",
      "Epoch 7/10\n",
      "469/469 [==============================] - 2s 5ms/step - loss: 27.3945 - accuracy: 0.1022\n",
      "Epoch 8/10\n",
      "469/469 [==============================] - 2s 5ms/step - loss: 27.3945 - accuracy: 0.1022\n",
      "Epoch 9/10\n",
      "469/469 [==============================] - 2s 5ms/step - loss: 27.3945 - accuracy: 0.1022\n",
      "Epoch 10/10\n",
      "469/469 [==============================] - 2s 5ms/step - loss: 27.3945 - accuracy: 0.1022\n"
     ]
    },
    {
     "data": {
      "text/plain": [
       "<keras.src.callbacks.History at 0x7f1a76a7d9c0>"
      ]
     },
     "execution_count": 9,
     "metadata": {},
     "output_type": "execute_result"
    }
   ],
   "source": [
    "model.fit(x_train, y_train, batch_size=128, epochs=10)"
   ]
  }
 ],
 "metadata": {
  "kernelspec": {
   "display_name": "dataAnalytics",
   "language": "python",
   "name": "python3"
  },
  "language_info": {
   "codemirror_mode": {
    "name": "ipython",
    "version": 3
   },
   "file_extension": ".py",
   "mimetype": "text/x-python",
   "name": "python",
   "nbconvert_exporter": "python",
   "pygments_lexer": "ipython3",
   "version": "3.10.9"
  },
  "orig_nbformat": 4
 },
 "nbformat": 4,
 "nbformat_minor": 2
}
