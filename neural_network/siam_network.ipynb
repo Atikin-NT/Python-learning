{
 "cells": [
  {
   "cell_type": "code",
   "execution_count": 1,
   "metadata": {},
   "outputs": [
    {
     "name": "stderr",
     "output_type": "stream",
     "text": [
      "2023-08-18 13:48:34.985044: I tensorflow/tsl/cuda/cudart_stub.cc:28] Could not find cuda drivers on your machine, GPU will not be used.\n",
      "2023-08-18 13:48:35.060176: I tensorflow/tsl/cuda/cudart_stub.cc:28] Could not find cuda drivers on your machine, GPU will not be used.\n",
      "2023-08-18 13:48:35.062256: I tensorflow/core/platform/cpu_feature_guard.cc:182] This TensorFlow binary is optimized to use available CPU instructions in performance-critical operations.\n",
      "To enable the following instructions: AVX2 FMA, in other operations, rebuild TensorFlow with the appropriate compiler flags.\n",
      "2023-08-18 13:48:36.882222: W tensorflow/compiler/tf2tensorrt/utils/py_utils.cc:38] TF-TRT Warning: Could not find TensorRT\n"
     ]
    }
   ],
   "source": [
    "import random\n",
    "import numpy as np\n",
    "import tensorflow as tf"
   ]
  },
  {
   "cell_type": "code",
   "execution_count": 2,
   "metadata": {},
   "outputs": [],
   "source": [
    "def create_template():\n",
    "    return tf.keras.models.Sequential([\n",
    "        tf.keras.layers.Flatten(),\n",
    "        tf.keras.layers.Dense(128, activation='relu'),\n",
    "        tf.keras.layers.Dropout(0.15),\n",
    "        tf.keras.layers.Dense(128, activation='relu'),\n",
    "        tf.keras.layers.Dropout(0.15),\n",
    "        tf.keras.layers.Dense(64, activation='softmax'),\n",
    "    ])"
   ]
  },
  {
   "cell_type": "code",
   "execution_count": 3,
   "metadata": {},
   "outputs": [],
   "source": [
    "def prepare_data(inputs: np.ndarray, labels: np.ndarray):\n",
    "    classesNumbers = 10\n",
    "    digitalIdx = [np.where(labels == i)[0] for i in range(classesNumbers)] # создает список списков с id картинок по возрастанию. То есть сначала список id картинок нулей, потом единиц и тд\n",
    "    pairs = list()\n",
    "    labels = list()\n",
    "    n = min([len(digitalIdx[d]) for d in range(classesNumbers)]) - 1  # каких чисел у нас меньше всего (длина наименьшего массива)\n",
    "    for d in range(classesNumbers):\n",
    "        for i in range(n):\n",
    "            z1, z2 = digitalIdx[d][i], digitalIdx[d][i+1]  # получем две соседние картинки\n",
    "            pairs += [[inputs[z1], inputs[z2]]]\n",
    "            inc = random.randrange(1, classesNumbers)\n",
    "            dn = (d+inc) % classesNumbers\n",
    "            z1, z2 = digitalIdx[d][i], digitalIdx[dn][i]  # еще 2 случайные картинки\n",
    "            pairs += [[inputs[z1], inputs[z2]]]\n",
    "            labels += [1, 0]  # говорит, что первая пара это истина, а вторая - ложь\n",
    "    return np.array(pairs), np.array(labels, dtype=np.float32)"
   ]
  },
  {
   "cell_type": "code",
   "execution_count": 4,
   "metadata": {},
   "outputs": [],
   "source": [
    "(x_train, y_train), (x_test, y_test) = tf.keras.datasets.mnist.load_data()"
   ]
  },
  {
   "cell_type": "code",
   "execution_count": 5,
   "metadata": {},
   "outputs": [],
   "source": [
    "x_train = x_train.astype(np.float32)\n",
    "x_test = x_test.astype(np.float32)\n",
    "\n",
    "x_train /= 255\n",
    "x_test /= 255\n",
    "\n",
    "input_shape = x_train.shape[1:]"
   ]
  },
  {
   "cell_type": "code",
   "execution_count": 6,
   "metadata": {},
   "outputs": [
    {
     "data": {
      "text/plain": [
       "array([[[0., 0., 0., ..., 0., 0., 0.],\n",
       "        [0., 0., 0., ..., 0., 0., 0.],\n",
       "        [0., 0., 0., ..., 0., 0., 0.],\n",
       "        ...,\n",
       "        [0., 0., 0., ..., 0., 0., 0.],\n",
       "        [0., 0., 0., ..., 0., 0., 0.],\n",
       "        [0., 0., 0., ..., 0., 0., 0.]],\n",
       "\n",
       "       [[0., 0., 0., ..., 0., 0., 0.],\n",
       "        [0., 0., 0., ..., 0., 0., 0.],\n",
       "        [0., 0., 0., ..., 0., 0., 0.],\n",
       "        ...,\n",
       "        [0., 0., 0., ..., 0., 0., 0.],\n",
       "        [0., 0., 0., ..., 0., 0., 0.],\n",
       "        [0., 0., 0., ..., 0., 0., 0.]],\n",
       "\n",
       "       [[0., 0., 0., ..., 0., 0., 0.],\n",
       "        [0., 0., 0., ..., 0., 0., 0.],\n",
       "        [0., 0., 0., ..., 0., 0., 0.],\n",
       "        ...,\n",
       "        [0., 0., 0., ..., 0., 0., 0.],\n",
       "        [0., 0., 0., ..., 0., 0., 0.],\n",
       "        [0., 0., 0., ..., 0., 0., 0.]],\n",
       "\n",
       "       ...,\n",
       "\n",
       "       [[0., 0., 0., ..., 0., 0., 0.],\n",
       "        [0., 0., 0., ..., 0., 0., 0.],\n",
       "        [0., 0., 0., ..., 0., 0., 0.],\n",
       "        ...,\n",
       "        [0., 0., 0., ..., 0., 0., 0.],\n",
       "        [0., 0., 0., ..., 0., 0., 0.],\n",
       "        [0., 0., 0., ..., 0., 0., 0.]],\n",
       "\n",
       "       [[0., 0., 0., ..., 0., 0., 0.],\n",
       "        [0., 0., 0., ..., 0., 0., 0.],\n",
       "        [0., 0., 0., ..., 0., 0., 0.],\n",
       "        ...,\n",
       "        [0., 0., 0., ..., 0., 0., 0.],\n",
       "        [0., 0., 0., ..., 0., 0., 0.],\n",
       "        [0., 0., 0., ..., 0., 0., 0.]],\n",
       "\n",
       "       [[0., 0., 0., ..., 0., 0., 0.],\n",
       "        [0., 0., 0., ..., 0., 0., 0.],\n",
       "        [0., 0., 0., ..., 0., 0., 0.],\n",
       "        ...,\n",
       "        [0., 0., 0., ..., 0., 0., 0.],\n",
       "        [0., 0., 0., ..., 0., 0., 0.],\n",
       "        [0., 0., 0., ..., 0., 0., 0.]]], dtype=float32)"
      ]
     },
     "execution_count": 6,
     "metadata": {},
     "output_type": "execute_result"
    }
   ],
   "source": [
    "x_train"
   ]
  },
  {
   "cell_type": "code",
   "execution_count": 7,
   "metadata": {},
   "outputs": [],
   "source": [
    "train_pairs, tr_labels = prepare_data(x_train, y_train)\n",
    "test_pairs, test_labels = prepare_data(x_test, y_test)"
   ]
  },
  {
   "cell_type": "code",
   "execution_count": 8,
   "metadata": {},
   "outputs": [],
   "source": [
    "base_network = create_template()\n",
    "\n",
    "input_a = tf.keras.layers.Input(shape=input_shape)\n",
    "encoder1 = base_network(input_a)\n",
    "input_b = tf.keras.layers.Input(shape=input_shape)\n",
    "encoder2 = base_network(input_b)"
   ]
  },
  {
   "cell_type": "markdown",
   "metadata": {},
   "source": [
    "реализуем кофициент сходства, который количественно определит разницу между двумя документами, которые мы сравниваем"
   ]
  },
  {
   "cell_type": "code",
   "execution_count": 9,
   "metadata": {},
   "outputs": [],
   "source": [
    "distance = tf.keras.layers.Lambda(\n",
    "    lambda embeddings: tf.keras.backend.abs(embeddings[0]-embeddings[1])\n",
    ") ([encoder1, encoder2])\n",
    "\n",
    "measureOfSimilarity = tf.keras.layers.Dense(1, activation='sigmoid') (distance)"
   ]
  },
  {
   "cell_type": "markdown",
   "metadata": {},
   "source": [
    "Собственно переходим к обучению модели"
   ]
  },
  {
   "cell_type": "code",
   "execution_count": 10,
   "metadata": {},
   "outputs": [],
   "source": [
    "model = tf.keras.models.Model([input_a, input_b], measureOfSimilarity)\n",
    "model.compile(loss='binary_crossentropy', optimizer=tf.keras.optimizers.Adam(), metrics=['accuracy'])"
   ]
  },
  {
   "cell_type": "code",
   "execution_count": 11,
   "metadata": {},
   "outputs": [
    {
     "name": "stderr",
     "output_type": "stream",
     "text": [
      "2023-08-18 13:55:37.873214: W tensorflow/tsl/framework/cpu_allocator_impl.cc:83] Allocation of 339942400 exceeds 10% of free system memory.\n"
     ]
    },
    {
     "name": "stdout",
     "output_type": "stream",
     "text": [
      "Epoch 1/10\n"
     ]
    },
    {
     "name": "stderr",
     "output_type": "stream",
     "text": [
      "2023-08-18 13:55:38.107204: W tensorflow/tsl/framework/cpu_allocator_impl.cc:83] Allocation of 339942400 exceeds 10% of free system memory.\n"
     ]
    },
    {
     "name": "stdout",
     "output_type": "stream",
     "text": [
      "847/847 [==============================] - 7s 7ms/step - loss: 0.5521 - accuracy: 0.7722 - val_loss: 0.4844 - val_accuracy: 0.8113\n",
      "Epoch 2/10\n",
      "847/847 [==============================] - 6s 7ms/step - loss: 0.4519 - accuracy: 0.8205 - val_loss: 0.4373 - val_accuracy: 0.8182\n",
      "Epoch 3/10\n",
      "847/847 [==============================] - 5s 6ms/step - loss: 0.4183 - accuracy: 0.8271 - val_loss: 0.4238 - val_accuracy: 0.8177\n",
      "Epoch 4/10\n",
      "847/847 [==============================] - 5s 6ms/step - loss: 0.4018 - accuracy: 0.8304 - val_loss: 0.4087 - val_accuracy: 0.8200\n",
      "Epoch 5/10\n",
      "847/847 [==============================] - 6s 7ms/step - loss: 0.3540 - accuracy: 0.8653 - val_loss: 0.3196 - val_accuracy: 0.8833\n",
      "Epoch 6/10\n",
      "847/847 [==============================] - 5s 6ms/step - loss: 0.2944 - accuracy: 0.8964 - val_loss: 0.2926 - val_accuracy: 0.8948\n",
      "Epoch 7/10\n",
      "847/847 [==============================] - 5s 6ms/step - loss: 0.2730 - accuracy: 0.9058 - val_loss: 0.2794 - val_accuracy: 0.8989\n",
      "Epoch 8/10\n",
      "847/847 [==============================] - 6s 6ms/step - loss: 0.2590 - accuracy: 0.9107 - val_loss: 0.2771 - val_accuracy: 0.9080\n",
      "Epoch 9/10\n",
      "847/847 [==============================] - 6s 7ms/step - loss: 0.2491 - accuracy: 0.9157 - val_loss: 0.2643 - val_accuracy: 0.9050\n",
      "Epoch 10/10\n",
      "847/847 [==============================] - 5s 6ms/step - loss: 0.2384 - accuracy: 0.9175 - val_loss: 0.2589 - val_accuracy: 0.9089\n"
     ]
    },
    {
     "data": {
      "text/plain": [
       "<keras.src.callbacks.History at 0x7fa692b04670>"
      ]
     },
     "execution_count": 11,
     "metadata": {},
     "output_type": "execute_result"
    }
   ],
   "source": [
    "model.fit(\n",
    "    [train_pairs[:, 0], train_pairs[:, 1]], \n",
    "    tr_labels, \n",
    "    batch_size=128, \n",
    "    epochs=10, \n",
    "    validation_data=([test_pairs[:, 0], test_pairs[:, 1]], test_labels)\n",
    "    )"
   ]
  }
 ],
 "metadata": {
  "kernelspec": {
   "display_name": "dataAnalytics",
   "language": "python",
   "name": "python3"
  },
  "language_info": {
   "codemirror_mode": {
    "name": "ipython",
    "version": 3
   },
   "file_extension": ".py",
   "mimetype": "text/x-python",
   "name": "python",
   "nbconvert_exporter": "python",
   "pygments_lexer": "ipython3",
   "version": "3.10.9"
  },
  "orig_nbformat": 4
 },
 "nbformat": 4,
 "nbformat_minor": 2
}
